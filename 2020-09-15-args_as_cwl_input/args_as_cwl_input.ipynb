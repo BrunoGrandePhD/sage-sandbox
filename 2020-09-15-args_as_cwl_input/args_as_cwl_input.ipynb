{
 "cells": [
  {
   "cell_type": "markdown",
   "metadata": {},
   "source": [
    "# Activate Conda Environment with cwltool"
   ]
  },
  {
   "cell_type": "code",
   "execution_count": 1,
   "metadata": {},
   "outputs": [],
   "source": [
    "source ~/miniconda3/bin/activate cwl"
   ]
  },
  {
   "cell_type": "markdown",
   "metadata": {},
   "source": [
    "# Run CWL"
   ]
  },
  {
   "cell_type": "markdown",
   "metadata": {},
   "source": [
    "## Include `args` input in JSON file"
   ]
  },
  {
   "cell_type": "code",
   "execution_count": 2,
   "metadata": {},
   "outputs": [
    {
     "name": "stdout",
     "output_type": "stream",
     "text": [
      "\u001b[1;30mINFO\u001b[0m /Users/bgrande/miniconda3/envs/cwl/bin/cwl-runner 3.0.20200724003302\n",
      "\u001b[1;30mINFO\u001b[0m Resolved 'args_as_cwl_input.cwl' to 'file:///Users/bgrande/repos/sage-sandbox/2020-09-15-args_as_cwl_input/args_as_cwl_input.cwl'\n",
      "\u001b[1;30mINFO\u001b[0m [job args_as_cwl_input.cwl] /private/tmp/docker_tmpn01f10xe$ /bin/sh \\\n",
      "    -c \\\n",
      "    'wc' -c -l '/private/var/folders/zp/4f833w6s1ld2np6m19nyjqb80000gn/T/tmp1buoe_dp/stgeb6d4ecd-94f1-4926-bd40-d9f16d129033/args_as_cwl_input.json'\n",
      "       6     110 /private/var/folders/zp/4f833w6s1ld2np6m19nyjqb80000gn/T/tmp1buoe_dp/stgeb6d4ecd-94f1-4926-bd40-d9f16d129033/args_as_cwl_input.json\n",
      "\u001b[1;30mINFO\u001b[0m [job args_as_cwl_input.cwl] completed success\n",
      "{}\n",
      "\u001b[1;30mINFO\u001b[0m Final process status is success\n"
     ]
    }
   ],
   "source": [
    "cwl-runner args_as_cwl_input.cwl args_as_cwl_input.json "
   ]
  },
  {
   "cell_type": "markdown",
   "metadata": {},
   "source": [
    "## Exclude `args` input from JSON file"
   ]
  },
  {
   "cell_type": "code",
   "execution_count": 3,
   "metadata": {},
   "outputs": [
    {
     "name": "stdout",
     "output_type": "stream",
     "text": [
      "\u001b[1;30mINFO\u001b[0m /Users/bgrande/miniconda3/envs/cwl/bin/cwl-runner 3.0.20200724003302\n",
      "\u001b[1;30mINFO\u001b[0m Resolved 'args_as_cwl_input.cwl' to 'file:///Users/bgrande/repos/sage-sandbox/2020-09-15-args_as_cwl_input/args_as_cwl_input.cwl'\n",
      "\u001b[1;30mINFO\u001b[0m [job args_as_cwl_input.cwl] /private/tmp/docker_tmp9qtqi8jn$ /bin/sh \\\n",
      "    -c \\\n",
      "    'wc' '/private/var/folders/zp/4f833w6s1ld2np6m19nyjqb80000gn/T/tmpipv84xqo/stg20e8ee9e-31c4-4e2b-b076-f09c80f91b90/args_as_cwl_input.json'\n",
      "       6      12     110 /private/var/folders/zp/4f833w6s1ld2np6m19nyjqb80000gn/T/tmpipv84xqo/stg20e8ee9e-31c4-4e2b-b076-f09c80f91b90/args_as_cwl_input.json\n",
      "\u001b[1;30mINFO\u001b[0m [job args_as_cwl_input.cwl] completed success\n",
      "{}\n",
      "\u001b[1;30mINFO\u001b[0m Final process status is success\n"
     ]
    }
   ],
   "source": [
    "cwl-runner args_as_cwl_input.cwl args_as_cwl_input_absent.json "
   ]
  },
  {
   "cell_type": "markdown",
   "metadata": {},
   "source": [
    "# Session Info"
   ]
  },
  {
   "cell_type": "code",
   "execution_count": 4,
   "metadata": {},
   "outputs": [
    {
     "name": "stdout",
     "output_type": "stream",
     "text": [
      "/Users/bgrande/miniconda3/lib/python3.8/multiprocessing/resource_tracker.py:216: UserWarning: resource_tracker: There appear to be 1 leaked semaphore objects to clean up at shutdown\n",
      "  warnings.warn('resource_tracker: There appear to be %d '\n",
      "name: cwl\n",
      "channels:\n",
      "  - conda-forge\n",
      "  - bioconda\n",
      "  - defaults\n",
      "dependencies:\n",
      "  - bagit=1.7.0=py_0\n",
      "  - brotlipy=0.7.0=py38h64e0658_1000\n",
      "  - ca-certificates=2020.6.20=hecda079_0\n",
      "  - cachecontrol=0.11.7=py_0\n",
      "  - certifi=2020.6.20=py38h32f6830_0\n",
      "  - cffi=1.14.1=py38hc4dd44e_0\n",
      "  - chardet=3.0.4=py38h32f6830_1006\n",
      "  - coloredlogs=14.0=py38h32f6830_1\n",
      "  - cryptography=3.1=py38h52adbb4_0\n",
      "  - cwltool=3.0.20200724003302=py38h32f6830_0\n",
      "  - decorator=4.4.2=py_0\n",
      "  - freetype=2.10.2=h8da9a1a_0\n",
      "  - graphviz=2.42.3=h98dfb87_0\n",
      "  - html5lib=1.1=pyh9f0ad1d_0\n",
      "  - humanfriendly=8.2=py38h32f6830_0\n",
      "  - icu=67.1=hb1e8313_0\n",
      "  - idna=2.10=pyh9f0ad1d_0\n",
      "  - isodate=0.6.0=py_1\n",
      "  - jpeg=9d=h0b31af3_0\n",
      "  - keepalive=0.5=py_1\n",
      "  - libcxx=10.0.1=h5f48129_0\n",
      "  - libffi=3.2.1=hb1e8313_1007\n",
      "  - libiconv=1.16=haf1e3a3_0\n",
      "  - libpng=1.6.37=hb0a8c7a_2\n",
      "  - libtiff=4.1.0=h2ae36a8_6\n",
      "  - libwebp-base=1.1.0=h0b31af3_3\n",
      "  - libxml2=2.9.10=h2c6e4a5_2\n",
      "  - libxslt=1.1.33=h29b7fa6_1\n",
      "  - lockfile=0.12.2=py_1\n",
      "  - lxml=4.5.2=py38hc829089_0\n",
      "  - lz4-c=1.9.2=hb1e8313_3\n",
      "  - mistune=0.8.4=py38h64e0658_1001\n",
      "  - mypy_extensions=0.4.3=py38h32f6830_1\n",
      "  - ncurses=6.2=hb1e8313_1\n",
      "  - networkx=2.5=py_0\n",
      "  - openssl=1.1.1g=haf1e3a3_1\n",
      "  - pip=20.2.2=py_0\n",
      "  - prov=1.5.1=py_1\n",
      "  - psutil=5.7.2=py38h4d0b108_0\n",
      "  - pycparser=2.20=pyh9f0ad1d_2\n",
      "  - pydot=1.4.1=py38h32f6830_1002\n",
      "  - pydotplus=2.0.2=pyhd1c1de3_3\n",
      "  - pyopenssl=19.1.0=py_1\n",
      "  - pyparsing=2.4.7=pyh9f0ad1d_0\n",
      "  - pysocks=1.7.1=py38h32f6830_1\n",
      "  - python=3.8.5=hfc71d35_7_cpython\n",
      "  - python-dateutil=2.8.1=py_0\n",
      "  - python_abi=3.8=1_cp38\n",
      "  - rdflib=4.2.2=py38_1000\n",
      "  - rdflib-jsonld=0.5.0=py38h32f6830_0\n",
      "  - readline=8.0=h0678c8f_2\n",
      "  - requests=2.24.0=pyh9f0ad1d_0\n",
      "  - ruamel.yaml=0.16.5=py38h0b31af3_1\n",
      "  - ruamel.yaml.clib=0.2.0=py38h64e0658_1\n",
      "  - schema-salad=7.0.20200811075006=py_0\n",
      "  - setuptools=49.6.0=py38h32f6830_0\n",
      "  - shellescape=3.4.1=py_0\n",
      "  - six=1.15.0=pyh9f0ad1d_0\n",
      "  - sparqlwrapper=1.8.5=py38h32f6830_1003\n",
      "  - sqlite=3.33.0=h960bd1c_0\n",
      "  - tk=8.6.10=hb0a8c7a_0\n",
      "  - typing_extensions=3.7.4.2=py_0\n",
      "  - urllib3=1.25.10=py_0\n",
      "  - webencodings=0.5.1=py_1\n",
      "  - wheel=0.35.1=pyh9f0ad1d_0\n",
      "  - xz=5.2.5=haf1e3a3_1\n",
      "  - zlib=1.2.11=h7795811_1009\n",
      "  - zstd=1.4.5=h289c70a_2\n",
      "  - pip:\n",
      "    - cwlref-runner==1.0\n",
      "    - cwltest==2.0.20200626112502\n",
      "    - junit-xml==1.9\n",
      "prefix: /Users/bgrande/miniconda3/envs/cwl\n",
      "\n"
     ]
    }
   ],
   "source": [
    "conda env export"
   ]
  }
 ],
 "metadata": {
  "kernelspec": {
   "display_name": "Bash",
   "language": "bash",
   "name": "bash"
  },
  "language_info": {
   "codemirror_mode": "shell",
   "file_extension": ".sh",
   "mimetype": "text/x-sh",
   "name": "bash"
  }
 },
 "nbformat": 4,
 "nbformat_minor": 4
}
